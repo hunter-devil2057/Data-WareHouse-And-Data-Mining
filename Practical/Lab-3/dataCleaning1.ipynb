{
 "cells": [
  {
   "cell_type": "code",
   "execution_count": 3,
   "metadata": {},
   "outputs": [
    {
     "name": "stdout",
     "output_type": "stream",
     "text": [
      "Original Data\n",
      "      Name   Age Team  Salary   Bonus\n",
      "0      Ram  30.0   IT   50000  3000.0\n",
      "1     Hari   NaN   IT   40000     NaN\n",
      "2    Shyam  40.0   HR   30000  1000.0\n",
      "3     Sita  25.0   IT   35000     NaN\n",
      "4     Gita  35.0   HR   40000  2000.0\n",
      "5    Shyam  40.0   HR   30000  1000.0\n",
      "6   Sabina  25.0  Fin   35000  1000.0\n",
      "7  kanchan  35.0  Mkt   40000  2000.0\n",
      "Cleaned Data\n",
      "      Name   Age       Team  Salary\n",
      "0      Ram  30.0         IT   50000\n",
      "2    Shyam  40.0         HR   30000\n",
      "4     Gita  35.0         HR   40000\n",
      "6   Sabina  25.0    Finance   35000\n",
      "7  kanchan  35.0  Marketing   40000\n"
     ]
    }
   ],
   "source": [
    "import pandas as pd\n",
    "import numpy as np\n",
    "\n",
    "data = pd.read_csv(r'C:\\Users\\Sheewakoti-Manish\\Documents\\My-Codes\\Data-Warehouse-And-Data-Mining\\Practical\\Lab-3\\employees.csv')\n",
    "print(\"Original Data\")\n",
    "print(data[0:25])\n",
    "\n",
    "# Removing missing values\n",
    "data=data.dropna(axis=0)\n",
    "\n",
    "# Removing duplicate rows\n",
    "data.drop_duplicates(keep='first',inplace=True)\n",
    "\n",
    "# Removing column Boonus %\n",
    "del data['Bonus']\n",
    "\n",
    "# Correcting Inconsitencies among values\n",
    "data['Team']=data['Team'].str.replace('Fin','Finance')\n",
    "data['Team']=data['Team'].str.replace('Mkt','Marketing')\n",
    "data['Team']=data['Team'].str.replace('Financeance','Finance')\n",
    "\n",
    "print(\"Cleaned Data\")\n",
    "print(data[0:25])"
   ]
  }
 ],
 "metadata": {
  "kernelspec": {
   "display_name": "base",
   "language": "python",
   "name": "python3"
  },
  "language_info": {
   "codemirror_mode": {
    "name": "ipython",
    "version": 3
   },
   "file_extension": ".py",
   "mimetype": "text/x-python",
   "name": "python",
   "nbconvert_exporter": "python",
   "pygments_lexer": "ipython3",
   "version": "3.12.7"
  }
 },
 "nbformat": 4,
 "nbformat_minor": 2
}
