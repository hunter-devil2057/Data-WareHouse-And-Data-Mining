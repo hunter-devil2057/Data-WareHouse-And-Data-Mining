{
 "cells": [
  {
   "cell_type": "code",
   "execution_count": null,
   "metadata": {},
   "outputs": [
    {
     "name": "stdout",
     "output_type": "stream",
     "text": [
      "^C\n",
      "Note: you may need to restart the kernel to use updated packages.\n"
     ]
    }
   ],
   "source": [
    "# !pip install scikit-learn-extra\n",
    "%pip install scikit-learn-extra\n",
    "\n",
    "from sklearn.datasets import load_iris\n",
    "from sklearn.preprocessing import StandardScaler\n",
    "from sklearn_extra.cluster import KMedoids\n",
    "from sklearn import metrics\n",
    "import matplotlib.pyplot as plt\n",
    "\n",
    "iris_data = load_iris()\n",
    "\n",
    "x = iris_data.data\n",
    "y = iris_data.target\n",
    "\n",
    "# print(x[:5])\n",
    "# print(y[:5])\n",
    "\n",
    "sc = StandardScaler().fit(x)\n",
    "\n",
    "sx = sc.transform(x)\n",
    "\n",
    "km = KMedoids(n_clusters=3)\n",
    "km.fit(sx)\n",
    "\n",
    "py = km.fit_predict(sx)\n",
    "# print(\"Predicted: \", py)\n",
    "\n",
    "fig = plt.figure(figsize=(12, 8))\n",
    "ax = fig.add_subplot(111, projection=\"3d\")\n",
    "\n",
    "colors = [\"g\", \"r\", \"b\"]\n",
    "markers = [\"+\", \"x\", \"*\"]\n",
    "\n",
    "for i in range(len(sx)):\n",
    "    ax.scatter(sx[i][0], sx[i][1], sx[i][2], color=colors[py[i]], marker=markers[py[i]])\n",
    "plt.show()\n",
    "\n",
    "ri = metrics.rand_score(y, py)\n",
    "print(\"Rand Index:\", ri)\n",
    "\n",
    "hs = metrics.homogeneity_score(y, py)\n",
    "print(\"Homogeniety Score:\", hs)\n",
    "\n",
    "cs = metrics.completeness_score(y, py)\n",
    "print(\"Completeness Score:\", cs)\n",
    "\n",
    "sc = metrics.silhouette_score(sx, py, metric=\"euclidean\")\n",
    "print(\"Silhouette Coefficient:\", sc)"
   ]
  },
  {
   "cell_type": "code",
   "execution_count": 1,
   "metadata": {},
   "outputs": [
    {
     "name": "stdout",
     "output_type": "stream",
     "text": [
      "a\n"
     ]
    }
   ],
   "source": [
    "print(\"a\")"
   ]
  }
 ],
 "metadata": {
  "kernelspec": {
   "display_name": "base",
   "language": "python",
   "name": "python3"
  },
  "language_info": {
   "codemirror_mode": {
    "name": "ipython",
    "version": 3
   },
   "file_extension": ".py",
   "mimetype": "text/x-python",
   "name": "python",
   "nbconvert_exporter": "python",
   "pygments_lexer": "ipython3",
   "version": "3.12.7"
  }
 },
 "nbformat": 4,
 "nbformat_minor": 2
}
